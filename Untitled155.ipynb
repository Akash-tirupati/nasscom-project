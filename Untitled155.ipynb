{
 "cells": [
  {
   "cell_type": "markdown",
   "metadata": {},
   "source": [
    "STEPS;-<br>\n",
    "1. Extract\n",
    "2. Split\n",
    "3. Train the model on training set\n",
    "4. test the model on testing set"
   ]
  },
  {
   "cell_type": "markdown",
   "metadata": {},
   "source": [
    "RULES:<br>\n",
    "1. Features should not have any strings\n",
    "2. Features and target should not have null values\n",
    "3. Features should be of the type array/ dataframe\n",
    "4. Features should have some rows and some columns\n",
    "5. Features should be on the same scale w.r.t. each other"
   ]
  },
  {
   "cell_type": "code",
   "execution_count": 7,
   "metadata": {},
   "outputs": [],
   "source": [
    "import pandas as pd"
   ]
  },
  {
   "cell_type": "code",
   "execution_count": 8,
   "metadata": {},
   "outputs": [],
   "source": [
    "df=pd.read_csv(\"odi.csv\")"
   ]
  },
  {
   "cell_type": "code",
   "execution_count": 9,
   "metadata": {},
   "outputs": [
    {
     "data": {
      "text/html": [
       "<div>\n",
       "<style scoped>\n",
       "    .dataframe tbody tr th:only-of-type {\n",
       "        vertical-align: middle;\n",
       "    }\n",
       "\n",
       "    .dataframe tbody tr th {\n",
       "        vertical-align: top;\n",
       "    }\n",
       "\n",
       "    .dataframe thead th {\n",
       "        text-align: right;\n",
       "    }\n",
       "</style>\n",
       "<table border=\"1\" class=\"dataframe\">\n",
       "  <thead>\n",
       "    <tr style=\"text-align: right;\">\n",
       "      <th></th>\n",
       "      <th>mid</th>\n",
       "      <th>date</th>\n",
       "      <th>venue</th>\n",
       "      <th>bat_team</th>\n",
       "      <th>bowl_team</th>\n",
       "      <th>batsman</th>\n",
       "      <th>bowler</th>\n",
       "      <th>runs</th>\n",
       "      <th>wickets</th>\n",
       "      <th>overs</th>\n",
       "      <th>runs_last_5</th>\n",
       "      <th>wickets_last_5</th>\n",
       "      <th>striker</th>\n",
       "      <th>non-striker</th>\n",
       "      <th>total</th>\n",
       "    </tr>\n",
       "  </thead>\n",
       "  <tbody>\n",
       "    <tr>\n",
       "      <th>0</th>\n",
       "      <td>1</td>\n",
       "      <td>2006-06-13</td>\n",
       "      <td>Civil Service Cricket Club, Stormont</td>\n",
       "      <td>England</td>\n",
       "      <td>Ireland</td>\n",
       "      <td>ME Trescothick</td>\n",
       "      <td>DT Johnston</td>\n",
       "      <td>0</td>\n",
       "      <td>0</td>\n",
       "      <td>0.1</td>\n",
       "      <td>0</td>\n",
       "      <td>0</td>\n",
       "      <td>0</td>\n",
       "      <td>0</td>\n",
       "      <td>301</td>\n",
       "    </tr>\n",
       "    <tr>\n",
       "      <th>1</th>\n",
       "      <td>1</td>\n",
       "      <td>2006-06-13</td>\n",
       "      <td>Civil Service Cricket Club, Stormont</td>\n",
       "      <td>England</td>\n",
       "      <td>Ireland</td>\n",
       "      <td>ME Trescothick</td>\n",
       "      <td>DT Johnston</td>\n",
       "      <td>0</td>\n",
       "      <td>0</td>\n",
       "      <td>0.2</td>\n",
       "      <td>0</td>\n",
       "      <td>0</td>\n",
       "      <td>0</td>\n",
       "      <td>0</td>\n",
       "      <td>301</td>\n",
       "    </tr>\n",
       "    <tr>\n",
       "      <th>2</th>\n",
       "      <td>1</td>\n",
       "      <td>2006-06-13</td>\n",
       "      <td>Civil Service Cricket Club, Stormont</td>\n",
       "      <td>England</td>\n",
       "      <td>Ireland</td>\n",
       "      <td>ME Trescothick</td>\n",
       "      <td>DT Johnston</td>\n",
       "      <td>4</td>\n",
       "      <td>0</td>\n",
       "      <td>0.3</td>\n",
       "      <td>4</td>\n",
       "      <td>0</td>\n",
       "      <td>0</td>\n",
       "      <td>0</td>\n",
       "      <td>301</td>\n",
       "    </tr>\n",
       "    <tr>\n",
       "      <th>3</th>\n",
       "      <td>1</td>\n",
       "      <td>2006-06-13</td>\n",
       "      <td>Civil Service Cricket Club, Stormont</td>\n",
       "      <td>England</td>\n",
       "      <td>Ireland</td>\n",
       "      <td>ME Trescothick</td>\n",
       "      <td>DT Johnston</td>\n",
       "      <td>6</td>\n",
       "      <td>0</td>\n",
       "      <td>0.4</td>\n",
       "      <td>6</td>\n",
       "      <td>0</td>\n",
       "      <td>0</td>\n",
       "      <td>0</td>\n",
       "      <td>301</td>\n",
       "    </tr>\n",
       "    <tr>\n",
       "      <th>4</th>\n",
       "      <td>1</td>\n",
       "      <td>2006-06-13</td>\n",
       "      <td>Civil Service Cricket Club, Stormont</td>\n",
       "      <td>England</td>\n",
       "      <td>Ireland</td>\n",
       "      <td>ME Trescothick</td>\n",
       "      <td>DT Johnston</td>\n",
       "      <td>6</td>\n",
       "      <td>0</td>\n",
       "      <td>0.5</td>\n",
       "      <td>6</td>\n",
       "      <td>0</td>\n",
       "      <td>0</td>\n",
       "      <td>0</td>\n",
       "      <td>301</td>\n",
       "    </tr>\n",
       "    <tr>\n",
       "      <th>...</th>\n",
       "      <td>...</td>\n",
       "      <td>...</td>\n",
       "      <td>...</td>\n",
       "      <td>...</td>\n",
       "      <td>...</td>\n",
       "      <td>...</td>\n",
       "      <td>...</td>\n",
       "      <td>...</td>\n",
       "      <td>...</td>\n",
       "      <td>...</td>\n",
       "      <td>...</td>\n",
       "      <td>...</td>\n",
       "      <td>...</td>\n",
       "      <td>...</td>\n",
       "      <td>...</td>\n",
       "    </tr>\n",
       "    <tr>\n",
       "      <th>350894</th>\n",
       "      <td>1188</td>\n",
       "      <td>2017-07-10</td>\n",
       "      <td>Mahinda Rajapaksa International Cricket Stadiu...</td>\n",
       "      <td>Sri Lanka</td>\n",
       "      <td>Zimbabwe</td>\n",
       "      <td>DAS Gunaratne</td>\n",
       "      <td>TL Chatara</td>\n",
       "      <td>201</td>\n",
       "      <td>8</td>\n",
       "      <td>49.2</td>\n",
       "      <td>39</td>\n",
       "      <td>0</td>\n",
       "      <td>59</td>\n",
       "      <td>18</td>\n",
       "      <td>203</td>\n",
       "    </tr>\n",
       "    <tr>\n",
       "      <th>350895</th>\n",
       "      <td>1188</td>\n",
       "      <td>2017-07-10</td>\n",
       "      <td>Mahinda Rajapaksa International Cricket Stadiu...</td>\n",
       "      <td>Sri Lanka</td>\n",
       "      <td>Zimbabwe</td>\n",
       "      <td>DAS Gunaratne</td>\n",
       "      <td>TL Chatara</td>\n",
       "      <td>201</td>\n",
       "      <td>8</td>\n",
       "      <td>49.3</td>\n",
       "      <td>39</td>\n",
       "      <td>0</td>\n",
       "      <td>59</td>\n",
       "      <td>18</td>\n",
       "      <td>203</td>\n",
       "    </tr>\n",
       "    <tr>\n",
       "      <th>350896</th>\n",
       "      <td>1188</td>\n",
       "      <td>2017-07-10</td>\n",
       "      <td>Mahinda Rajapaksa International Cricket Stadiu...</td>\n",
       "      <td>Sri Lanka</td>\n",
       "      <td>Zimbabwe</td>\n",
       "      <td>DAS Gunaratne</td>\n",
       "      <td>TL Chatara</td>\n",
       "      <td>201</td>\n",
       "      <td>8</td>\n",
       "      <td>49.4</td>\n",
       "      <td>38</td>\n",
       "      <td>0</td>\n",
       "      <td>59</td>\n",
       "      <td>18</td>\n",
       "      <td>203</td>\n",
       "    </tr>\n",
       "    <tr>\n",
       "      <th>350897</th>\n",
       "      <td>1188</td>\n",
       "      <td>2017-07-10</td>\n",
       "      <td>Mahinda Rajapaksa International Cricket Stadiu...</td>\n",
       "      <td>Sri Lanka</td>\n",
       "      <td>Zimbabwe</td>\n",
       "      <td>DAS Gunaratne</td>\n",
       "      <td>TL Chatara</td>\n",
       "      <td>202</td>\n",
       "      <td>8</td>\n",
       "      <td>49.5</td>\n",
       "      <td>38</td>\n",
       "      <td>0</td>\n",
       "      <td>59</td>\n",
       "      <td>18</td>\n",
       "      <td>203</td>\n",
       "    </tr>\n",
       "    <tr>\n",
       "      <th>350898</th>\n",
       "      <td>1188</td>\n",
       "      <td>2017-07-10</td>\n",
       "      <td>Mahinda Rajapaksa International Cricket Stadiu...</td>\n",
       "      <td>Sri Lanka</td>\n",
       "      <td>Zimbabwe</td>\n",
       "      <td>PVD Chameera</td>\n",
       "      <td>TL Chatara</td>\n",
       "      <td>203</td>\n",
       "      <td>8</td>\n",
       "      <td>49.6</td>\n",
       "      <td>38</td>\n",
       "      <td>0</td>\n",
       "      <td>59</td>\n",
       "      <td>18</td>\n",
       "      <td>203</td>\n",
       "    </tr>\n",
       "  </tbody>\n",
       "</table>\n",
       "<p>350899 rows × 15 columns</p>\n",
       "</div>"
      ],
      "text/plain": [
       "         mid        date                                              venue  \\\n",
       "0          1  2006-06-13               Civil Service Cricket Club, Stormont   \n",
       "1          1  2006-06-13               Civil Service Cricket Club, Stormont   \n",
       "2          1  2006-06-13               Civil Service Cricket Club, Stormont   \n",
       "3          1  2006-06-13               Civil Service Cricket Club, Stormont   \n",
       "4          1  2006-06-13               Civil Service Cricket Club, Stormont   \n",
       "...      ...         ...                                                ...   \n",
       "350894  1188  2017-07-10  Mahinda Rajapaksa International Cricket Stadiu...   \n",
       "350895  1188  2017-07-10  Mahinda Rajapaksa International Cricket Stadiu...   \n",
       "350896  1188  2017-07-10  Mahinda Rajapaksa International Cricket Stadiu...   \n",
       "350897  1188  2017-07-10  Mahinda Rajapaksa International Cricket Stadiu...   \n",
       "350898  1188  2017-07-10  Mahinda Rajapaksa International Cricket Stadiu...   \n",
       "\n",
       "         bat_team bowl_team         batsman       bowler  runs  wickets  \\\n",
       "0         England   Ireland  ME Trescothick  DT Johnston     0        0   \n",
       "1         England   Ireland  ME Trescothick  DT Johnston     0        0   \n",
       "2         England   Ireland  ME Trescothick  DT Johnston     4        0   \n",
       "3         England   Ireland  ME Trescothick  DT Johnston     6        0   \n",
       "4         England   Ireland  ME Trescothick  DT Johnston     6        0   \n",
       "...           ...       ...             ...          ...   ...      ...   \n",
       "350894  Sri Lanka  Zimbabwe   DAS Gunaratne   TL Chatara   201        8   \n",
       "350895  Sri Lanka  Zimbabwe   DAS Gunaratne   TL Chatara   201        8   \n",
       "350896  Sri Lanka  Zimbabwe   DAS Gunaratne   TL Chatara   201        8   \n",
       "350897  Sri Lanka  Zimbabwe   DAS Gunaratne   TL Chatara   202        8   \n",
       "350898  Sri Lanka  Zimbabwe    PVD Chameera   TL Chatara   203        8   \n",
       "\n",
       "        overs  runs_last_5  wickets_last_5  striker  non-striker  total  \n",
       "0         0.1            0               0        0            0    301  \n",
       "1         0.2            0               0        0            0    301  \n",
       "2         0.3            4               0        0            0    301  \n",
       "3         0.4            6               0        0            0    301  \n",
       "4         0.5            6               0        0            0    301  \n",
       "...       ...          ...             ...      ...          ...    ...  \n",
       "350894   49.2           39               0       59           18    203  \n",
       "350895   49.3           39               0       59           18    203  \n",
       "350896   49.4           38               0       59           18    203  \n",
       "350897   49.5           38               0       59           18    203  \n",
       "350898   49.6           38               0       59           18    203  \n",
       "\n",
       "[350899 rows x 15 columns]"
      ]
     },
     "execution_count": 9,
     "metadata": {},
     "output_type": "execute_result"
    }
   ],
   "source": [
    "df"
   ]
  },
  {
   "cell_type": "code",
   "execution_count": 10,
   "metadata": {},
   "outputs": [],
   "source": [
    "df=df.drop(\"date\",axis=1)"
   ]
  },
  {
   "cell_type": "code",
   "execution_count": 11,
   "metadata": {},
   "outputs": [
    {
     "data": {
      "text/html": [
       "<div>\n",
       "<style scoped>\n",
       "    .dataframe tbody tr th:only-of-type {\n",
       "        vertical-align: middle;\n",
       "    }\n",
       "\n",
       "    .dataframe tbody tr th {\n",
       "        vertical-align: top;\n",
       "    }\n",
       "\n",
       "    .dataframe thead th {\n",
       "        text-align: right;\n",
       "    }\n",
       "</style>\n",
       "<table border=\"1\" class=\"dataframe\">\n",
       "  <thead>\n",
       "    <tr style=\"text-align: right;\">\n",
       "      <th></th>\n",
       "      <th>mid</th>\n",
       "      <th>venue</th>\n",
       "      <th>bat_team</th>\n",
       "      <th>bowl_team</th>\n",
       "      <th>batsman</th>\n",
       "      <th>bowler</th>\n",
       "      <th>runs</th>\n",
       "      <th>wickets</th>\n",
       "      <th>overs</th>\n",
       "      <th>runs_last_5</th>\n",
       "      <th>wickets_last_5</th>\n",
       "      <th>striker</th>\n",
       "      <th>non-striker</th>\n",
       "      <th>total</th>\n",
       "    </tr>\n",
       "  </thead>\n",
       "  <tbody>\n",
       "    <tr>\n",
       "      <th>0</th>\n",
       "      <td>1</td>\n",
       "      <td>Civil Service Cricket Club, Stormont</td>\n",
       "      <td>England</td>\n",
       "      <td>Ireland</td>\n",
       "      <td>ME Trescothick</td>\n",
       "      <td>DT Johnston</td>\n",
       "      <td>0</td>\n",
       "      <td>0</td>\n",
       "      <td>0.1</td>\n",
       "      <td>0</td>\n",
       "      <td>0</td>\n",
       "      <td>0</td>\n",
       "      <td>0</td>\n",
       "      <td>301</td>\n",
       "    </tr>\n",
       "    <tr>\n",
       "      <th>1</th>\n",
       "      <td>1</td>\n",
       "      <td>Civil Service Cricket Club, Stormont</td>\n",
       "      <td>England</td>\n",
       "      <td>Ireland</td>\n",
       "      <td>ME Trescothick</td>\n",
       "      <td>DT Johnston</td>\n",
       "      <td>0</td>\n",
       "      <td>0</td>\n",
       "      <td>0.2</td>\n",
       "      <td>0</td>\n",
       "      <td>0</td>\n",
       "      <td>0</td>\n",
       "      <td>0</td>\n",
       "      <td>301</td>\n",
       "    </tr>\n",
       "    <tr>\n",
       "      <th>2</th>\n",
       "      <td>1</td>\n",
       "      <td>Civil Service Cricket Club, Stormont</td>\n",
       "      <td>England</td>\n",
       "      <td>Ireland</td>\n",
       "      <td>ME Trescothick</td>\n",
       "      <td>DT Johnston</td>\n",
       "      <td>4</td>\n",
       "      <td>0</td>\n",
       "      <td>0.3</td>\n",
       "      <td>4</td>\n",
       "      <td>0</td>\n",
       "      <td>0</td>\n",
       "      <td>0</td>\n",
       "      <td>301</td>\n",
       "    </tr>\n",
       "    <tr>\n",
       "      <th>3</th>\n",
       "      <td>1</td>\n",
       "      <td>Civil Service Cricket Club, Stormont</td>\n",
       "      <td>England</td>\n",
       "      <td>Ireland</td>\n",
       "      <td>ME Trescothick</td>\n",
       "      <td>DT Johnston</td>\n",
       "      <td>6</td>\n",
       "      <td>0</td>\n",
       "      <td>0.4</td>\n",
       "      <td>6</td>\n",
       "      <td>0</td>\n",
       "      <td>0</td>\n",
       "      <td>0</td>\n",
       "      <td>301</td>\n",
       "    </tr>\n",
       "    <tr>\n",
       "      <th>4</th>\n",
       "      <td>1</td>\n",
       "      <td>Civil Service Cricket Club, Stormont</td>\n",
       "      <td>England</td>\n",
       "      <td>Ireland</td>\n",
       "      <td>ME Trescothick</td>\n",
       "      <td>DT Johnston</td>\n",
       "      <td>6</td>\n",
       "      <td>0</td>\n",
       "      <td>0.5</td>\n",
       "      <td>6</td>\n",
       "      <td>0</td>\n",
       "      <td>0</td>\n",
       "      <td>0</td>\n",
       "      <td>301</td>\n",
       "    </tr>\n",
       "  </tbody>\n",
       "</table>\n",
       "</div>"
      ],
      "text/plain": [
       "   mid                                 venue bat_team bowl_team  \\\n",
       "0    1  Civil Service Cricket Club, Stormont  England   Ireland   \n",
       "1    1  Civil Service Cricket Club, Stormont  England   Ireland   \n",
       "2    1  Civil Service Cricket Club, Stormont  England   Ireland   \n",
       "3    1  Civil Service Cricket Club, Stormont  England   Ireland   \n",
       "4    1  Civil Service Cricket Club, Stormont  England   Ireland   \n",
       "\n",
       "          batsman       bowler  runs  wickets  overs  runs_last_5  \\\n",
       "0  ME Trescothick  DT Johnston     0        0    0.1            0   \n",
       "1  ME Trescothick  DT Johnston     0        0    0.2            0   \n",
       "2  ME Trescothick  DT Johnston     4        0    0.3            4   \n",
       "3  ME Trescothick  DT Johnston     6        0    0.4            6   \n",
       "4  ME Trescothick  DT Johnston     6        0    0.5            6   \n",
       "\n",
       "   wickets_last_5  striker  non-striker  total  \n",
       "0               0        0            0    301  \n",
       "1               0        0            0    301  \n",
       "2               0        0            0    301  \n",
       "3               0        0            0    301  \n",
       "4               0        0            0    301  "
      ]
     },
     "execution_count": 11,
     "metadata": {},
     "output_type": "execute_result"
    }
   ],
   "source": [
    "df.head()"
   ]
  },
  {
   "cell_type": "markdown",
   "metadata": {},
   "source": [
    "# 1"
   ]
  },
  {
   "cell_type": "code",
   "execution_count": 12,
   "metadata": {},
   "outputs": [],
   "source": [
    "X=df.drop(\"total\",axis=1)"
   ]
  },
  {
   "cell_type": "code",
   "execution_count": 13,
   "metadata": {},
   "outputs": [],
   "source": [
    "y=df[\"total\"]"
   ]
  },
  {
   "cell_type": "code",
   "execution_count": 9,
   "metadata": {},
   "outputs": [
    {
     "name": "stdout",
     "output_type": "stream",
     "text": [
      "<class 'pandas.core.frame.DataFrame'>\n",
      "RangeIndex: 350899 entries, 0 to 350898\n",
      "Data columns (total 13 columns):\n",
      " #   Column          Non-Null Count   Dtype  \n",
      "---  ------          --------------   -----  \n",
      " 0   mid             350899 non-null  int64  \n",
      " 1   venue           350899 non-null  object \n",
      " 2   bat_team        350899 non-null  object \n",
      " 3   bowl_team       350899 non-null  object \n",
      " 4   batsman         350899 non-null  object \n",
      " 5   bowler          350899 non-null  object \n",
      " 6   runs            350899 non-null  int64  \n",
      " 7   wickets         350899 non-null  int64  \n",
      " 8   overs           350899 non-null  float64\n",
      " 9   runs_last_5     350899 non-null  int64  \n",
      " 10  wickets_last_5  350899 non-null  int64  \n",
      " 11  striker         350899 non-null  int64  \n",
      " 12  non-striker     350899 non-null  int64  \n",
      "dtypes: float64(1), int64(7), object(5)\n",
      "memory usage: 34.8+ MB\n"
     ]
    }
   ],
   "source": [
    "X.info()"
   ]
  },
  {
   "cell_type": "code",
   "execution_count": 14,
   "metadata": {},
   "outputs": [],
   "source": [
    "X=pd.get_dummies(X,columns=[\"venue\",\"bat_team\",\"bowl_team\",\"batsman\",\"bowler\"],drop_first=True)"
   ]
  },
  {
   "cell_type": "code",
   "execution_count": 15,
   "metadata": {},
   "outputs": [
    {
     "data": {
      "text/plain": [
       "Index(['mid', 'runs', 'wickets', 'overs', 'runs_last_5', 'wickets_last_5',\n",
       "       'striker', 'non-striker', 'venue_Adelaide Oval',\n",
       "       'venue_Andhra Cricket Association-Visakhapatnam District Cricket Association Stadium',\n",
       "       ...\n",
       "       'bowler_Younis Khan', 'bowler_Yuvraj Singh', 'bowler_Z Khan',\n",
       "       'bowler_Zaheer Maqsood', 'bowler_Zahid Hussain', 'bowler_Zahid Shah',\n",
       "       'bowler_Zahoor Khan', 'bowler_Zain Abbas', 'bowler_Ziaur Rahman',\n",
       "       'bowler_Zulfiqar Babar'],\n",
       "      dtype='object', length=1828)"
      ]
     },
     "execution_count": 15,
     "metadata": {},
     "output_type": "execute_result"
    }
   ],
   "source": [
    "X.columns"
   ]
  },
  {
   "cell_type": "code",
   "execution_count": 16,
   "metadata": {},
   "outputs": [
    {
     "name": "stdout",
     "output_type": "stream",
     "text": [
      "<class 'pandas.core.frame.DataFrame'>\n",
      "RangeIndex: 350899 entries, 0 to 350898\n",
      "Columns: 1828 entries, mid to bowler_Zulfiqar Babar\n",
      "dtypes: float64(1), int64(7), uint8(1820)\n",
      "memory usage: 630.5 MB\n"
     ]
    }
   ],
   "source": [
    "X.info()"
   ]
  },
  {
   "cell_type": "code",
   "execution_count": 17,
   "metadata": {},
   "outputs": [
    {
     "data": {
      "text/plain": [
       "mid                      0\n",
       "runs                     0\n",
       "wickets                  0\n",
       "overs                    0\n",
       "runs_last_5              0\n",
       "                        ..\n",
       "bowler_Zahid Shah        0\n",
       "bowler_Zahoor Khan       0\n",
       "bowler_Zain Abbas        0\n",
       "bowler_Ziaur Rahman      0\n",
       "bowler_Zulfiqar Babar    0\n",
       "Length: 1828, dtype: int64"
      ]
     },
     "execution_count": 17,
     "metadata": {},
     "output_type": "execute_result"
    }
   ],
   "source": [
    "X.isna().sum()"
   ]
  },
  {
   "cell_type": "code",
   "execution_count": 18,
   "metadata": {},
   "outputs": [
    {
     "data": {
      "text/plain": [
       "pandas.core.frame.DataFrame"
      ]
     },
     "execution_count": 18,
     "metadata": {},
     "output_type": "execute_result"
    }
   ],
   "source": [
    "type(X)"
   ]
  },
  {
   "cell_type": "code",
   "execution_count": 19,
   "metadata": {},
   "outputs": [
    {
     "data": {
      "text/plain": [
       "(350899, 1828)"
      ]
     },
     "execution_count": 19,
     "metadata": {},
     "output_type": "execute_result"
    }
   ],
   "source": [
    "X.shape"
   ]
  },
  {
   "cell_type": "markdown",
   "metadata": {},
   "source": [
    "# Split"
   ]
  },
  {
   "cell_type": "code",
   "execution_count": 20,
   "metadata": {},
   "outputs": [],
   "source": [
    "from sklearn.model_selection import train_test_split"
   ]
  },
  {
   "cell_type": "code",
   "execution_count": null,
   "metadata": {},
   "outputs": [],
   "source": [
    "X_train,X_test,y_train,y_test=train_test_split(X,y,test_size=0.3,random_state=42)"
   ]
  },
  {
   "cell_type": "markdown",
   "metadata": {},
   "source": [
    "# 3"
   ]
  },
  {
   "cell_type": "code",
   "execution_count": 4,
   "metadata": {},
   "outputs": [],
   "source": [
    "from sklearn.linear_model import LogisticRegression"
   ]
  },
  {
   "cell_type": "code",
   "execution_count": 5,
   "metadata": {},
   "outputs": [],
   "source": [
    "tree=LogisticRegression()"
   ]
  },
  {
   "cell_type": "code",
   "execution_count": 6,
   "metadata": {},
   "outputs": [
    {
     "ename": "NameError",
     "evalue": "name 'X_train' is not defined",
     "output_type": "error",
     "traceback": [
      "\u001b[1;31m---------------------------------------------------------------------------\u001b[0m",
      "\u001b[1;31mNameError\u001b[0m                                 Traceback (most recent call last)",
      "\u001b[1;32m<ipython-input-6-a3197f5c7d09>\u001b[0m in \u001b[0;36m<module>\u001b[1;34m\u001b[0m\n\u001b[1;32m----> 1\u001b[1;33m \u001b[0mmodel\u001b[0m\u001b[1;33m=\u001b[0m\u001b[0mtree\u001b[0m\u001b[1;33m.\u001b[0m\u001b[0mfit\u001b[0m\u001b[1;33m(\u001b[0m\u001b[0mX_train\u001b[0m\u001b[1;33m,\u001b[0m\u001b[0my_train\u001b[0m\u001b[1;33m)\u001b[0m\u001b[1;33m\u001b[0m\u001b[1;33m\u001b[0m\u001b[0m\n\u001b[0m",
      "\u001b[1;31mNameError\u001b[0m: name 'X_train' is not defined"
     ]
    }
   ],
   "source": [
    "model=tree.fit(X_train,y_train)"
   ]
  },
  {
   "cell_type": "markdown",
   "metadata": {},
   "source": [
    "# 4"
   ]
  },
  {
   "cell_type": "code",
   "execution_count": 23,
   "metadata": {},
   "outputs": [
    {
     "data": {
      "text/plain": [
       "1.0"
      ]
     },
     "execution_count": 23,
     "metadata": {},
     "output_type": "execute_result"
    }
   ],
   "source": [
    "model.score(X_train,y_train)"
   ]
  },
  {
   "cell_type": "code",
   "execution_count": null,
   "metadata": {},
   "outputs": [
    {
     "data": {
      "text/plain": [
       "array([301., 301., 301., ..., 203., 203., 203.])"
      ]
     },
     "execution_count": 27,
     "metadata": {},
     "output_type": "execute_result"
    }
   ],
   "source": [
    "model.predict(X)"
   ]
  },
  {
   "cell_type": "code",
   "execution_count": null,
   "metadata": {},
   "outputs": [],
   "source": []
  }
 ],
 "metadata": {
  "kernelspec": {
   "display_name": "Python 3",
   "language": "python",
   "name": "python3"
  },
  "language_info": {
   "codemirror_mode": {
    "name": "ipython",
    "version": 3
   },
   "file_extension": ".py",
   "mimetype": "text/x-python",
   "name": "python",
   "nbconvert_exporter": "python",
   "pygments_lexer": "ipython3",
   "version": "3.7.6"
  }
 },
 "nbformat": 4,
 "nbformat_minor": 2
}
